{
 "cells": [
  {
   "cell_type": "markdown",
   "metadata": {},
   "source": [
    "# Final Project\n"
   ]
  },
  {
   "cell_type": "code",
   "execution_count": 48,
   "metadata": {},
   "outputs": [],
   "source": [
    "import numpy as np\n",
    "import pandas as pd\n",
    "from sklearn.tree import DecisionTreeRegressor\n",
    "from sklearn.ensemble import RandomForestRegressor\n",
    "from sklearn.model_selection import train_test_split\n",
    "from sklearn.linear_model import LinearRegression\n",
    "from sklearn.preprocessing import PolynomialFeatures\n",
    "from sklearn.ensemble import AdaBoostRegressor\n",
    "from sklearn.preprocessing import LabelEncoder\n",
    "from sklearn.metrics import r2_score\n",
    "from sklearn.metrics import explained_variance_score\n",
    "from sklearn.metrics import mean_absolute_error\n",
    "from sklearn.metrics import mean_squared_error\n",
    "from sklearn.metrics import mean_squared_log_error\n",
    "from sklearn.metrics import median_absolute_error\n",
    "from math import sqrt"
   ]
  },
  {
   "cell_type": "code",
   "execution_count": 24,
   "metadata": {},
   "outputs": [],
   "source": [
    "# Read column names from file\n",
    "cols = list(pd.read_csv(\n",
    "    'C:/Users/yhryy/Desktop/575 Data Science/Final Project/Data/train_V2.csv', nrows=1))"
   ]
  },
  {
   "cell_type": "code",
   "execution_count": 25,
   "metadata": {},
   "outputs": [],
   "source": [
    "# Load train data\n",
    "# pubgData = pd.read_csv('C:/Users/yhryy/Desktop/575 Data Science/Final Project/Data/train_V2.csv', header=0, usecols=[\n",
    "#                        i for i in cols if i not in ['Id', 'groupId', 'matchId', 'matchType']])\n",
    "\n",
    "pubgData = pd.read_csv('C:/Users/yhryy/Desktop/575 Data Science/Final Project/Data/train_V2.csv', header=0, usecols=[\n",
    "                       i for i in cols if i not in ['Id', 'groupId', 'matchId']])"
   ]
  },
  {
   "cell_type": "code",
   "execution_count": 26,
   "metadata": {},
   "outputs": [],
   "source": [
    "# drop na value\n",
    "pubgData = pubgData.dropna()"
   ]
  },
  {
   "cell_type": "code",
   "execution_count": 27,
   "metadata": {},
   "outputs": [],
   "source": [
    "#drop data by match type\n",
    "pubgData=pubgData[pubgData['matchType'].isin(['squad-fpp ','duo-fpp','squad ','solo-fpp ','duo','solo'])]"
   ]
  },
  {
   "cell_type": "code",
   "execution_count": 28,
   "metadata": {},
   "outputs": [],
   "source": [
    "#encode match type\n",
    "pubgData['matchType']=LabelEncoder().fit_transform(pubgData['matchType'])"
   ]
  },
  {
   "cell_type": "code",
   "execution_count": 29,
   "metadata": {},
   "outputs": [
    {
     "name": "stdout",
     "output_type": "stream",
     "text": [
      "         assists  boosts  damageDealt  DBNOs  headshotKills  heals  killPlace  \\\n",
      "2              1       0        68.00      0              0      0         47   \n",
      "11             0       0       137.90      1              0      0         64   \n",
      "15             0       0        80.71      1              0      0         72   \n",
      "20             0       4       269.10      0              1      8         18   \n",
      "22             0       1       192.30      1              2      3         15   \n",
      "...          ...     ...          ...    ...            ...    ...        ...   \n",
      "4446949        0       0       100.00      1              0      0         32   \n",
      "4446955        0       0         0.00      0              0      0         60   \n",
      "4446957        0       1       100.00      0              0      0         32   \n",
      "4446958        0       0         0.00      0              0      0         92   \n",
      "4446962        0       1        44.15      0              0      0         69   \n",
      "\n",
      "         killPoints  kills  killStreaks  ...  rankPoints  revives  \\\n",
      "2                 0      0            0  ...        1491        0   \n",
      "11                0      0            0  ...        1488        0   \n",
      "15                0      0            0  ...        1495        1   \n",
      "20                0      2            1  ...        1491        1   \n",
      "22             1022      2            1  ...          -1        0   \n",
      "...             ...    ...          ...  ...         ...      ...   \n",
      "4446949           0      1            1  ...        1514        0   \n",
      "4446955           0      0            0  ...        1470        0   \n",
      "4446957           0      1            1  ...        1546        1   \n",
      "4446958           0      0            0  ...        1546        0   \n",
      "4446962           0      0            0  ...        1501        0   \n",
      "\n",
      "         rideDistance  roadKills  swimDistance  teamKills  vehicleDestroys  \\\n",
      "2                 0.0          0           0.0          0                0   \n",
      "11                0.0          0           0.0          0                0   \n",
      "15                0.0          0           0.0          0                0   \n",
      "20             2734.0          0           0.0          0                0   \n",
      "22             2332.0          0           0.0          0                0   \n",
      "...               ...        ...           ...        ...              ...   \n",
      "4446949           0.0          0           0.0          0                0   \n",
      "4446955         604.8          0           0.0          0                0   \n",
      "4446957           0.0          0           0.0          0                0   \n",
      "4446958           0.0          0           0.0          0                0   \n",
      "4446962           0.0          0           0.0          0                0   \n",
      "\n",
      "         walkDistance  weaponsAcquired  winPoints  \n",
      "2               161.8                2          0  \n",
      "11              451.7                1          0  \n",
      "15              105.1                5          0  \n",
      "20             1794.0                5          0  \n",
      "22             1264.0                4       1494  \n",
      "...               ...              ...        ...  \n",
      "4446949         424.6                3          0  \n",
      "4446955        1158.0                3          0  \n",
      "4446957         363.7                2          0  \n",
      "4446958           0.0                0          0  \n",
      "4446962          81.7                6          0  \n",
      "\n",
      "[1492225 rows x 25 columns]\n"
     ]
    }
   ],
   "source": [
    "#get x,y\n",
    "y = pubgData['winPlacePerc']\n",
    "x= pubgData.iloc[:, 0:-1]\n",
    "\n",
    "print(x)\n"
   ]
  },
  {
   "cell_type": "code",
   "execution_count": 30,
   "metadata": {},
   "outputs": [],
   "source": [
    "# Split the data\n",
    "Xtrain, Xtest, Ytrain, Ytest = train_test_split(x, y, test_size=0.2)"
   ]
  },
  {
   "cell_type": "markdown",
   "metadata": {},
   "source": [
    "## Local Model"
   ]
  },
  {
   "cell_type": "markdown",
   "metadata": {},
   "source": [
    "### Decison Tree & Random Forest"
   ]
  },
  {
   "cell_type": "code",
   "execution_count": 31,
   "metadata": {},
   "outputs": [
    {
     "name": "stdout",
     "output_type": "stream",
     "text": [
      "Single Tree:0.891842176244891 Random Forest:0.9414691143906007\n"
     ]
    }
   ],
   "source": [
    "# use train data to test model\n",
    "clf = DecisionTreeRegressor(random_state=0)\n",
    "rfr = RandomForestRegressor(random_state=0, n_estimators=10)\n",
    "clf = clf.fit(Xtrain, Ytrain)\n",
    "rfr = rfr.fit(Xtrain, Ytrain)\n",
    "score_c = clf.score(Xtest, Ytest)\n",
    "score_r = rfr.score(Xtest, Ytest)\n",
    "\n",
    "print(\"Single Tree:{}\".format(score_c), \"Random Forest:{}\".format(score_r))"
   ]
  },
  {
   "cell_type": "code",
   "execution_count": 32,
   "metadata": {},
   "outputs": [
    {
     "name": "stdout",
     "output_type": "stream",
     "text": [
      "Single Tree train:0.9998423792023959 Random Forest train:0.9894267007180564\n"
     ]
    }
   ],
   "source": [
    "score_c_train = clf.score(Xtrain, Ytrain)\n",
    "score_r_train = rfr.score(Xtrain, Ytrain)\n",
    "print(\"Single Tree train:{}\".format(score_c_train), \"Random Forest train:{}\".format(score_r_train))"
   ]
  },
  {
   "cell_type": "markdown",
   "metadata": {},
   "source": [
    "### Linear & Ploy Regression"
   ]
  },
  {
   "cell_type": "code",
   "execution_count": 34,
   "metadata": {},
   "outputs": [
    {
     "name": "stdout",
     "output_type": "stream",
     "text": [
      "Linear:0.8562854011652571\n"
     ]
    }
   ],
   "source": [
    "#linear\n",
    "lr = LinearRegression()\n",
    "lr.fit(Xtrain,Ytrain)\n",
    "\n",
    "# #poly\n",
    "# polynomial = PolynomialFeatures(degree = 2)\n",
    "# Xtrain_transformed = polynomial.fit_transform(Xtrain)\n",
    "# pr = LinearRegression()\n",
    "# pr.fit(Xtrain_transformed, Ytrain)\n",
    "\n",
    "score_lr = lr.score(Xtest, Ytest)\n",
    "# Xtest_transformed = polynomial.transform(Xtest)\n",
    "# score_pr = pr.score(Xtest_transformed, Ytest)\n",
    "\n",
    "# print(\"Linear:{}\".format(score_lr), \"Poly:{}\".format(score_pr))\n",
    "print(\"Linear:{}\".format(score_lr))"
   ]
  },
  {
   "cell_type": "code",
   "execution_count": 35,
   "metadata": {},
   "outputs": [
    {
     "name": "stdout",
     "output_type": "stream",
     "text": [
      "Linear train:0.8571468887775888\n"
     ]
    }
   ],
   "source": [
    "score_lr_train = lr.score(Xtrain, Ytrain)\n",
    "print(\"Linear train:{}\".format(score_lr_train))"
   ]
  },
  {
   "cell_type": "markdown",
   "metadata": {},
   "source": [
    "### Adaboost"
   ]
  },
  {
   "cell_type": "code",
   "execution_count": null,
   "metadata": {},
   "outputs": [],
   "source": [
    "#boost\n",
    "bst = AdaBoostRegressor(DecisionTreeRegressor(random_state=0),n_estimators=50, learning_rate=0.8)\n",
    "bst.fit(Xtrain,Ytrain)\n",
    "\n",
    "score_bst = bst.score(Xtest, Ytest)\n",
    "\n",
    "print(\"Adaboost:{}\".format(score_bst))"
   ]
  },
  {
   "cell_type": "markdown",
   "metadata": {},
   "source": [
    "## Submission for Kaggle"
   ]
  },
  {
   "cell_type": "markdown",
   "metadata": {},
   "source": [
    "### Data"
   ]
  },
  {
   "cell_type": "code",
   "execution_count": null,
   "metadata": {},
   "outputs": [],
   "source": [
    "# Read column names from file\n",
    "test_cols = list(pd.read_csv(\n",
    "    'C:/Users/yhryy/Desktop/575 Data Science/Final Project/Data/test_V2.csv', nrows=1))\n",
    "\n",
    "#load test data\n",
    "test_id = pd.read_csv('C:/Users/yhryy/Desktop/575 Data Science/Final Project/Data/test_V2.csv', header=0, usecols=['Id'])\n",
    "test = pd.read_csv('C:/Users/yhryy/Desktop/575 Data Science/Final Project/Data/test_V2.csv', header=0, usecols=[\n",
    "                       i for i in test_cols if i not in ['Id', 'groupId', 'matchId', 'matchType']])"
   ]
  },
  {
   "cell_type": "markdown",
   "metadata": {},
   "source": [
    "### Decison Tree"
   ]
  },
  {
   "cell_type": "code",
   "execution_count": null,
   "metadata": {},
   "outputs": [],
   "source": [
    "#get the predict for submitting\n",
    "dcr = DecisionTreeRegressor(splitter='random',random_state=0)\n",
    "dcr = dcr.fit(x,y)\n",
    "dcr_predictY = dcr.predict(test)"
   ]
  },
  {
   "cell_type": "code",
   "execution_count": null,
   "metadata": {},
   "outputs": [],
   "source": [
    "dcr_predictY = np.around(dcr_predictY, decimals=4)\n",
    "dcr_id = test_id\n",
    "dcr_id['winPlacePerc'] = dcr_predictY"
   ]
  },
  {
   "cell_type": "code",
   "execution_count": null,
   "metadata": {},
   "outputs": [],
   "source": [
    "dcr_id.to_csv(\"C:/Users/yhryy/Desktop/575 Data Science/Final Project/submission_dcr.csv\",index=False)"
   ]
  },
  {
   "cell_type": "markdown",
   "metadata": {},
   "source": [
    "### Random Forest"
   ]
  },
  {
   "cell_type": "code",
   "execution_count": null,
   "metadata": {},
   "outputs": [],
   "source": [
    "#get the predict for submitting\n",
    "rfr = RandomForestRegressor(random_state=0,splitter='random',n_estimators=10)\n",
    "rfr = rfr.fit(x,y)\n",
    "rfr_predictY = rfr.predict(test)"
   ]
  },
  {
   "cell_type": "code",
   "execution_count": null,
   "metadata": {},
   "outputs": [],
   "source": [
    "rfr_predictY = np.around(rfr_predictY, decimals=4)\n",
    "rfr_id = test_id\n",
    "rfr_id['winPlacePerc'] = rfr_predictY"
   ]
  },
  {
   "cell_type": "code",
   "execution_count": null,
   "metadata": {},
   "outputs": [],
   "source": [
    "rfr_id.to_csv(\"C:/Users/yhryy/Desktop/575 Data Science/Final Project/submission_rfr.csv\",index=False)"
   ]
  },
  {
   "cell_type": "markdown",
   "metadata": {},
   "source": [
    "### Linear Regression"
   ]
  },
  {
   "cell_type": "code",
   "execution_count": null,
   "metadata": {},
   "outputs": [],
   "source": [
    "lr = LinearRegression()\n",
    "lr.fit(x,y)\n",
    "lr_predictY = lr.predict(test)"
   ]
  },
  {
   "cell_type": "code",
   "execution_count": null,
   "metadata": {},
   "outputs": [],
   "source": [
    "lr_predictY = np.around(lr_predictY, decimals=4)\n",
    "lr_id = test_id\n",
    "lr_id['winPlacePerc'] = lr_predictY"
   ]
  },
  {
   "cell_type": "code",
   "execution_count": null,
   "metadata": {},
   "outputs": [],
   "source": [
    "lr_id.to_csv(\"C:/Users/yhryy/Desktop/575 Data Science/Final Project/submission_lr.csv\",index=False)"
   ]
  },
  {
   "cell_type": "markdown",
   "metadata": {},
   "source": [
    "### Poly Regreession"
   ]
  },
  {
   "cell_type": "code",
   "execution_count": null,
   "metadata": {},
   "outputs": [],
   "source": [
    "polynomial = PolynomialFeatures(degree = 2)\n",
    "x_transformed = polynomial.fit_transform(x)\n",
    "pr = LinearRegression()\n",
    "pr.fit(x_transformed, y)\n",
    "\n",
    "test_transformed = polynomial.transform(test)\n",
    "pr_predictY = pr.predict(test_transformed)"
   ]
  },
  {
   "cell_type": "code",
   "execution_count": null,
   "metadata": {},
   "outputs": [],
   "source": [
    "pr_predictY = np.around(pr_predictY, decimals=4)\n",
    "pr_id = test_id\n",
    "pr_id['winPlacePerc'] = pr_predictY"
   ]
  },
  {
   "cell_type": "code",
   "execution_count": null,
   "metadata": {},
   "outputs": [],
   "source": [
    "pr_id.to_csv(\"C:/Users/yhryy/Desktop/575 Data Science/Final Project/submission_pr.csv\",index=False)"
   ]
  },
  {
   "cell_type": "markdown",
   "metadata": {},
   "source": [
    "### Adaboost"
   ]
  },
  {
   "cell_type": "code",
   "execution_count": null,
   "metadata": {},
   "outputs": [],
   "source": [
    "bst = AdaBoostRegressor(DecisionTreeRegressor(random_state=0),n_estimators=50, learning_rate=0.8)\n",
    "bst.fit(x,y)\n",
    "bst_predictY = bst.predict(test)"
   ]
  },
  {
   "cell_type": "code",
   "execution_count": null,
   "metadata": {},
   "outputs": [],
   "source": [
    "bst_predictY = np.around(bst_predictY, decimals=4)\n",
    "bst_id = test_id\n",
    "bst_id['winPlacePerc'] = bst_predictY"
   ]
  },
  {
   "cell_type": "code",
   "execution_count": null,
   "metadata": {},
   "outputs": [],
   "source": [
    "bst_id.to_csv(\"C:/Users/yhryy/Desktop/575 Data Science/Final Project/submission_bst.csv\",index=False)"
   ]
  },
  {
   "cell_type": "markdown",
   "metadata": {},
   "source": [
    "## Metrics"
   ]
  },
  {
   "cell_type": "markdown",
   "metadata": {},
   "source": [
    "### Random Forest"
   ]
  },
  {
   "cell_type": "code",
   "execution_count": 52,
   "metadata": {},
   "outputs": [
    {
     "name": "stdout",
     "output_type": "stream",
     "text": [
      "r^2: 0.9382304357582999\n",
      "Explained variance: 0.9382318682837347\n",
      "Mean absolute error: 0.9382318682837347\n",
      "Mean squared error: 0.005339227216912565\n",
      "Median absolute error: 0.036374999999999935\n"
     ]
    }
   ],
   "source": [
    "Ypred_rfr = rfr.predict(Xtest)\n",
    "\n",
    "#r^2\n",
    "print(\"r^2:\",r2_score(Ypred_rfr,Ytest))\n",
    "\n",
    "#Explained variance\n",
    "print(\"Explained variance:\",explained_variance_score(Ypred_rfr, Ytest))\n",
    "\n",
    "#Mean absolute error\n",
    "print(\"Mean absolute error:\",explained_variance_score(Ypred_rfr, Ytest))\n",
    "\n",
    "#Mean squared error\n",
    "print(\"Mean squared error:\",mean_squared_error(Ypred_rfr, Ytest))\n",
    "\n",
    "#Median absolute error\n",
    "print(\"Median absolute error:\",median_absolute_error(Ypred_rfr, Ytest))"
   ]
  },
  {
   "cell_type": "markdown",
   "metadata": {},
   "source": [
    "### Decision Tree"
   ]
  },
  {
   "cell_type": "code",
   "execution_count": 53,
   "metadata": {},
   "outputs": [
    {
     "name": "stdout",
     "output_type": "stream",
     "text": [
      "r^2: 0.8917833519386777\n",
      "Explained variance: 0.891784061286172\n",
      "Mean absolute error: 0.891784061286172\n",
      "Mean squared error: 0.00986623028684491\n",
      "Median absolute error: 0.044399999999999995\n"
     ]
    }
   ],
   "source": [
    "Ypred_clf = clf.predict(Xtest)\n",
    "\n",
    "#r^2\n",
    "print(\"r^2:\",r2_score(Ypred_clf,Ytest))\n",
    "\n",
    "#Explained variance\n",
    "print(\"Explained variance:\",explained_variance_score(Ypred_clf, Ytest))\n",
    "\n",
    "#Mean absolute error\n",
    "print(\"Mean absolute error:\",explained_variance_score(Ypred_clf, Ytest))\n",
    "\n",
    "#Mean squared error\n",
    "print(\"Mean squared error:\",mean_squared_error(Ypred_clf, Ytest))\n",
    "\n",
    "#Median absolute error\n",
    "print(\"Median absolute error:\",median_absolute_error(Ypred_clf, Ytest))"
   ]
  },
  {
   "cell_type": "markdown",
   "metadata": {},
   "source": [
    "### Linear Regression"
   ]
  },
  {
   "cell_type": "code",
   "execution_count": 54,
   "metadata": {},
   "outputs": [
    {
     "name": "stdout",
     "output_type": "stream",
     "text": [
      "r^2: 0.8319948635275369\n",
      "Explained variance: 0.8319982537568351\n",
      "Mean absolute error: 0.8319982537568351\n",
      "Mean squared error: 0.013109743506817992\n",
      "Median absolute error: 0.06372179337608619\n"
     ]
    }
   ],
   "source": [
    "Ypred_lr = lr.predict(Xtest)\n",
    "\n",
    "#r^2\n",
    "print(\"r^2:\",r2_score(Ypred_lr,Ytest))\n",
    "\n",
    "#Explained variance\n",
    "print(\"Explained variance:\",explained_variance_score(Ypred_lr, Ytest))\n",
    "\n",
    "#Mean absolute error\n",
    "print(\"Mean absolute error:\",explained_variance_score(Ypred_lr, Ytest))\n",
    "\n",
    "#Mean squared error\n",
    "print(\"Mean squared error:\",mean_squared_error(Ypred_lr, Ytest))\n",
    "\n",
    "#Median absolute error\n",
    "print(\"Median absolute error:\",median_absolute_error(Ypred_lr, Ytest))"
   ]
  }
 ],
 "metadata": {
  "kernelspec": {
   "display_name": "Python 3",
   "language": "python",
   "name": "python3"
  },
  "language_info": {
   "codemirror_mode": {
    "name": "ipython",
    "version": 3
   },
   "file_extension": ".py",
   "mimetype": "text/x-python",
   "name": "python",
   "nbconvert_exporter": "python",
   "pygments_lexer": "ipython3",
   "version": "3.7.4"
  }
 },
 "nbformat": 4,
 "nbformat_minor": 2
}
